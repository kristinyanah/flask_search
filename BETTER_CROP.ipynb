{
 "cells": [
  {
   "cell_type": "code",
   "execution_count": 1,
   "id": "3741eb16",
   "metadata": {},
   "outputs": [
    {
     "name": "stdout",
     "output_type": "stream",
     "text": [
      "Populating the interactive namespace from numpy and matplotlib\n"
     ]
    }
   ],
   "source": [
    "%pylab inline"
   ]
  },
  {
   "cell_type": "code",
   "execution_count": 2,
   "id": "4d17d053",
   "metadata": {},
   "outputs": [],
   "source": [
    "import mahotas as mh"
   ]
  },
  {
   "cell_type": "code",
   "execution_count": 3,
   "id": "697cbdb3",
   "metadata": {},
   "outputs": [],
   "source": [
    "img = mh.imread('067.png')"
   ]
  },
  {
   "cell_type": "code",
   "execution_count": 4,
   "id": "1bd980b9",
   "metadata": {},
   "outputs": [],
   "source": [
    "bbox = '200.319, 178.98, 243.662, 208.319'\n",
    "bbox = [v.strip() for v in bbox.split(',')]\n",
    "bbox = [float(v) for v in bbox]\n",
    "bbox = [int(v) for v in bbox]"
   ]
  },
  {
   "cell_type": "code",
   "execution_count": 5,
   "id": "a7fe7beb",
   "metadata": {},
   "outputs": [],
   "source": [
    "th = lambda x: x if x > 0 else 0\n",
    "th_vector = np.vectorize(th)\n",
    "def preprocess_image(im):\n",
    "    im = (im.astype(np.int32) - 32768).astype(np.int16)\n",
    "    im = ((im + 1024)/(1024 + 3071))*255\n",
    "    im = th_vector(im)\n",
    "    im = im.astype(np.uint8)\n",
    "    return(im) "
   ]
  },
  {
   "cell_type": "code",
   "execution_count": 6,
   "id": "677e76b8",
   "metadata": {},
   "outputs": [],
   "source": [
    "img2 = preprocess_image(img)"
   ]
  },
  {
   "cell_type": "code",
   "execution_count": 8,
   "id": "3146cf54",
   "metadata": {},
   "outputs": [
    {
     "data": {
      "text/plain": [
       "(0, 142)"
      ]
     },
     "execution_count": 8,
     "metadata": {},
     "output_type": "execute_result"
    }
   ],
   "source": [
    "img2.min(), img2.max()"
   ]
  },
  {
   "cell_type": "code",
   "execution_count": 41,
   "id": "b74ef141",
   "metadata": {},
   "outputs": [],
   "source": [
    "FIXED_SIZE = (50,50)\n",
    "def crop(img, bbox):\n",
    "\n",
    "#### REMMEBER TO PUT BACK IN IF YOU CALL CROP on a filename..\n",
    "#     img = mh.imread(img) \n",
    "#     bbox = bbox.split(',')\n",
    "#     bbox = [int(float(v)) for v in bbox]\n",
    "\n",
    "    # convert bbox to fixed size\n",
    "    diff_x = bbox[2] - bbox[0]\n",
    "    diff_y = bbox[3] - bbox[1]\n",
    "\n",
    "    pad_x = FIXED_SIZE[0] - diff_x\n",
    "    pad_y = FIXED_SIZE[1] - diff_y\n",
    "    \n",
    "    padded_lesion = img[bbox[1]-int(pad_y/2):bbox[3]+int(pad_y/2), \n",
    "                            bbox[0]-int(pad_x/2):bbox[2]+int(pad_x/2)]\n",
    "\n",
    "         \n",
    "           \n",
    "    if img.shape[0] != FIXED_SIZE[0] or img.shape[1] != FIXED_SIZE[1]:\n",
    "        new_padded = np.zeros(FIXED_SIZE, np.uint8)\n",
    "        new_padded[:,:] = padded_lesion.min()\n",
    "        new_padded[0:padded_lesion.shape[0], 0:padded_lesion.shape[1]] = padded_lesion\n",
    "        padded_lesion = new_padded\n",
    "#          padded_lesion = resize(padded_lesion,FIXED_SIZE )\n",
    "\n",
    "    #print(padded_lesion.shape)\n",
    "    \n",
    "    return padded_lesion"
   ]
  },
  {
   "cell_type": "code",
   "execution_count": 42,
   "id": "867617d4",
   "metadata": {},
   "outputs": [],
   "source": [
    "padded = crop(img2, bbox)"
   ]
  },
  {
   "cell_type": "code",
   "execution_count": 43,
   "id": "a39027a7",
   "metadata": {},
   "outputs": [
    {
     "name": "stdout",
     "output_type": "stream",
     "text": [
      "(50, 50)\n"
     ]
    },
    {
     "data": {
      "text/plain": [
       "<matplotlib.image.AxesImage at 0x7fa110c0fc90>"
      ]
     },
     "execution_count": 43,
     "metadata": {},
     "output_type": "execute_result"
    },
    {
     "data": {
      "image/png": "[encoded data removed]",
      "text/plain": [
       "<Figure size 432x288 with 1 Axes>"
      ]
     },
     "metadata": {
      "needs_background": "light"
     },
     "output_type": "display_data"
    }
   ],
   "source": [
    "print(padded.shape)\n",
    "imshow(padded,cmap='gray')"
   ]
  },
  {
   "cell_type": "code",
   "execution_count": 40,
   "id": "0d1d5b66",
   "metadata": {},
   "outputs": [
    {
     "data": {
      "text/plain": [
       "(0, 72)"
      ]
     },
     "execution_count": 40,
     "metadata": {},
     "output_type": "execute_result"
    }
   ],
   "source": [
    "padded.min(), padded.max()"
   ]
  },
  {
   "cell_type": "code",
   "execution_count": 19,
   "id": "57f78227",
   "metadata": {},
   "outputs": [
    {
     "data": {
      "text/plain": [
       "dtype('uint8')"
      ]
     },
     "execution_count": 19,
     "metadata": {},
     "output_type": "execute_result"
    }
   ],
   "source": [
    "padded.dtype"
   ]
  },
  {
   "cell_type": "code",
   "execution_count": 31,
   "id": "4f931ee9",
   "metadata": {},
   "outputs": [],
   "source": [
    "padded3 = mh.imresize(padded, FIXED_SIZE)"
   ]
  },
  {
   "cell_type": "code",
   "execution_count": 32,
   "id": "b63279f0",
   "metadata": {},
   "outputs": [
    {
     "data": {
      "text/plain": [
       "<matplotlib.image.AxesImage at 0x7fa1199cb710>"
      ]
     },
     "execution_count": 32,
     "metadata": {},
     "output_type": "execute_result"
    },
    {
     "data": {
      "image/png": "[encoded data removed]",
      "text/plain": [
       "<Figure size 432x288 with 1 Axes>"
      ]
     },
     "metadata": {
      "needs_background": "light"
     },
     "output_type": "display_data"
    }
   ],
   "source": [
    "imshow(padded3, cmap='gray')"
   ]
  },
  {
   "cell_type": "code",
   "execution_count": 33,
   "id": "fdfa2844",
   "metadata": {},
   "outputs": [
    {
     "data": {
      "text/plain": [
       "(50, 50)"
      ]
     },
     "execution_count": 33,
     "metadata": {},
     "output_type": "execute_result"
    }
   ],
   "source": [
    "padded3.shape"
   ]
  },
  {
   "cell_type": "code",
   "execution_count": 25,
   "id": "70766d12",
   "metadata": {},
   "outputs": [
    {
     "data": {
      "text/plain": [
       "(0.0, 72.0)"
      ]
     },
     "execution_count": 25,
     "metadata": {},
     "output_type": "execute_result"
    }
   ],
   "source": [
    "padded3.min(), padded3.max()"
   ]
  },
  {
   "cell_type": "code",
   "execution_count": null,
   "id": "b225fba7",
   "metadata": {},
   "outputs": [],
   "source": [
    "np.pad()"
   ]
  }
 ],
 "metadata": {
  "kernelspec": {
   "display_name": "Python 3 (ipykernel)",
   "language": "python",
   "name": "python3"
  },
  "language_info": {
   "codemirror_mode": {
    "name": "ipython",
    "version": 3
   },
   "file_extension": ".py",
   "mimetype": "text/x-python",
   "name": "python",
   "nbconvert_exporter": "python",
   "pygments_lexer": "ipython3",
   "version": "3.7.13"
  }
 },
 "nbformat": 4,
 "nbformat_minor": 5
}
